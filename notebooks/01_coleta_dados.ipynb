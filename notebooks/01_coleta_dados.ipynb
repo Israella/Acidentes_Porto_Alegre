{
 "cells": [
  {
   "cell_type": "code",
   "execution_count": 2,
   "id": "3db3e07d-a7a2-41e7-9eff-b4ec2ef2f9cd",
   "metadata": {},
   "outputs": [],
   "source": [
    "import pandas as pd\n",
    "import folium\n",
    "from folium.plugins import HeatMap\n",
    "from folium.plugins import MarkerCluster\n",
    "import matplotlib.pyplot as plt"
   ]
  },
  {
   "cell_type": "code",
   "execution_count": 3,
   "id": "8e88cd7f-72b0-42c5-83bc-512d33aca0cf",
   "metadata": {},
   "outputs": [
    {
     "data": {
      "text/html": [
       "<div>\n",
       "<style scoped>\n",
       "    .dataframe tbody tr th:only-of-type {\n",
       "        vertical-align: middle;\n",
       "    }\n",
       "\n",
       "    .dataframe tbody tr th {\n",
       "        vertical-align: top;\n",
       "    }\n",
       "\n",
       "    .dataframe thead th {\n",
       "        text-align: right;\n",
       "    }\n",
       "</style>\n",
       "<table border=\"1\" class=\"dataframe\">\n",
       "  <thead>\n",
       "    <tr style=\"text-align: right;\">\n",
       "      <th></th>\n",
       "      <th>data_extracao</th>\n",
       "      <th>predial1</th>\n",
       "      <th>queda_arr</th>\n",
       "      <th>data</th>\n",
       "      <th>feridos</th>\n",
       "      <th>feridos_gr</th>\n",
       "      <th>mortes</th>\n",
       "      <th>morte_post</th>\n",
       "      <th>fatais</th>\n",
       "      <th>auto</th>\n",
       "      <th>...</th>\n",
       "      <th>longitude</th>\n",
       "      <th>latitude</th>\n",
       "      <th>log1</th>\n",
       "      <th>log2</th>\n",
       "      <th>tipo_acid</th>\n",
       "      <th>dia_sem</th>\n",
       "      <th>hora</th>\n",
       "      <th>noite_dia</th>\n",
       "      <th>regiao</th>\n",
       "      <th>consorcio</th>\n",
       "    </tr>\n",
       "  </thead>\n",
       "  <tbody>\n",
       "    <tr>\n",
       "      <th>0</th>\n",
       "      <td>2025-03-21 08:36:35</td>\n",
       "      <td>0.0</td>\n",
       "      <td>0.0</td>\n",
       "      <td>2020-10-17 00:00:00</td>\n",
       "      <td>1</td>\n",
       "      <td>0</td>\n",
       "      <td>0</td>\n",
       "      <td>0</td>\n",
       "      <td>0</td>\n",
       "      <td>3</td>\n",
       "      <td>...</td>\n",
       "      <td>0.000000</td>\n",
       "      <td>0.000000</td>\n",
       "      <td>R MARCOS MOREIRA</td>\n",
       "      <td>R GASTON ENGLERT</td>\n",
       "      <td>ABALROAMENTO</td>\n",
       "      <td>SÁBADO</td>\n",
       "      <td>19:00:00.0000000</td>\n",
       "      <td>NOITE</td>\n",
       "      <td>NORTE</td>\n",
       "      <td>NaN</td>\n",
       "    </tr>\n",
       "    <tr>\n",
       "      <th>1</th>\n",
       "      <td>2025-03-21 08:36:35</td>\n",
       "      <td>598.0</td>\n",
       "      <td>0.0</td>\n",
       "      <td>2020-01-01 00:00:00</td>\n",
       "      <td>1</td>\n",
       "      <td>0</td>\n",
       "      <td>0</td>\n",
       "      <td>0</td>\n",
       "      <td>0</td>\n",
       "      <td>0</td>\n",
       "      <td>...</td>\n",
       "      <td>NaN</td>\n",
       "      <td>NaN</td>\n",
       "      <td>AV BENTO GONCALVES</td>\n",
       "      <td>NaN</td>\n",
       "      <td>ABALROAMENTO</td>\n",
       "      <td>QUARTA-FEIRA</td>\n",
       "      <td>03:00:00.0000000</td>\n",
       "      <td>NOITE</td>\n",
       "      <td>LESTE</td>\n",
       "      <td>NaN</td>\n",
       "    </tr>\n",
       "    <tr>\n",
       "      <th>2</th>\n",
       "      <td>2025-03-21 08:36:35</td>\n",
       "      <td>1271.0</td>\n",
       "      <td>0.0</td>\n",
       "      <td>2020-01-01 00:00:00</td>\n",
       "      <td>1</td>\n",
       "      <td>1</td>\n",
       "      <td>0</td>\n",
       "      <td>0</td>\n",
       "      <td>0</td>\n",
       "      <td>1</td>\n",
       "      <td>...</td>\n",
       "      <td>NaN</td>\n",
       "      <td>NaN</td>\n",
       "      <td>AV INDEPENDENCIA</td>\n",
       "      <td>NaN</td>\n",
       "      <td>ATROPELAMENTO</td>\n",
       "      <td>QUARTA-FEIRA</td>\n",
       "      <td>23:00:00.0000000</td>\n",
       "      <td>NOITE</td>\n",
       "      <td>LESTE</td>\n",
       "      <td>NaN</td>\n",
       "    </tr>\n",
       "    <tr>\n",
       "      <th>3</th>\n",
       "      <td>2025-03-21 08:36:35</td>\n",
       "      <td>1901.0</td>\n",
       "      <td>0.0</td>\n",
       "      <td>2020-01-02 00:00:00</td>\n",
       "      <td>2</td>\n",
       "      <td>0</td>\n",
       "      <td>0</td>\n",
       "      <td>0</td>\n",
       "      <td>0</td>\n",
       "      <td>0</td>\n",
       "      <td>...</td>\n",
       "      <td>NaN</td>\n",
       "      <td>NaN</td>\n",
       "      <td>AV EDUARDO PRADO</td>\n",
       "      <td>NaN</td>\n",
       "      <td>ATROPELAMENTO</td>\n",
       "      <td>QUINTA-FEIRA</td>\n",
       "      <td>00:05:00.0000000</td>\n",
       "      <td>NOITE</td>\n",
       "      <td>SUL</td>\n",
       "      <td>NaN</td>\n",
       "    </tr>\n",
       "    <tr>\n",
       "      <th>4</th>\n",
       "      <td>2025-03-21 08:36:35</td>\n",
       "      <td>3302.0</td>\n",
       "      <td>0.0</td>\n",
       "      <td>2020-01-02 00:00:00</td>\n",
       "      <td>1</td>\n",
       "      <td>0</td>\n",
       "      <td>0</td>\n",
       "      <td>0</td>\n",
       "      <td>0</td>\n",
       "      <td>1</td>\n",
       "      <td>...</td>\n",
       "      <td>-51.211535</td>\n",
       "      <td>-30.081535</td>\n",
       "      <td>AV TERESOPOLIS</td>\n",
       "      <td>NaN</td>\n",
       "      <td>ABALROAMENTO</td>\n",
       "      <td>QUINTA-FEIRA</td>\n",
       "      <td>09:00:00.0000000</td>\n",
       "      <td>DIA</td>\n",
       "      <td>SUL</td>\n",
       "      <td>NaN</td>\n",
       "    </tr>\n",
       "  </tbody>\n",
       "</table>\n",
       "<p>5 rows × 34 columns</p>\n",
       "</div>"
      ],
      "text/plain": [
       "         data_extracao  predial1  queda_arr                 data  feridos  \\\n",
       "0  2025-03-21 08:36:35       0.0        0.0  2020-10-17 00:00:00        1   \n",
       "1  2025-03-21 08:36:35     598.0        0.0  2020-01-01 00:00:00        1   \n",
       "2  2025-03-21 08:36:35    1271.0        0.0  2020-01-01 00:00:00        1   \n",
       "3  2025-03-21 08:36:35    1901.0        0.0  2020-01-02 00:00:00        2   \n",
       "4  2025-03-21 08:36:35    3302.0        0.0  2020-01-02 00:00:00        1   \n",
       "\n",
       "   feridos_gr  mortes  morte_post  fatais  auto  ...  longitude   latitude  \\\n",
       "0           0       0           0       0     3  ...   0.000000   0.000000   \n",
       "1           0       0           0       0     0  ...        NaN        NaN   \n",
       "2           1       0           0       0     1  ...        NaN        NaN   \n",
       "3           0       0           0       0     0  ...        NaN        NaN   \n",
       "4           0       0           0       0     1  ... -51.211535 -30.081535   \n",
       "\n",
       "                 log1              log2      tipo_acid       dia_sem  \\\n",
       "0    R MARCOS MOREIRA  R GASTON ENGLERT   ABALROAMENTO        SÁBADO   \n",
       "1  AV BENTO GONCALVES               NaN   ABALROAMENTO  QUARTA-FEIRA   \n",
       "2    AV INDEPENDENCIA               NaN  ATROPELAMENTO  QUARTA-FEIRA   \n",
       "3    AV EDUARDO PRADO               NaN  ATROPELAMENTO  QUINTA-FEIRA   \n",
       "4      AV TERESOPOLIS               NaN   ABALROAMENTO  QUINTA-FEIRA   \n",
       "\n",
       "               hora  noite_dia  regiao  consorcio  \n",
       "0  19:00:00.0000000      NOITE   NORTE        NaN  \n",
       "1  03:00:00.0000000      NOITE   LESTE        NaN  \n",
       "2  23:00:00.0000000      NOITE   LESTE        NaN  \n",
       "3  00:05:00.0000000      NOITE     SUL        NaN  \n",
       "4  09:00:00.0000000        DIA     SUL        NaN  \n",
       "\n",
       "[5 rows x 34 columns]"
      ]
     },
     "execution_count": 3,
     "metadata": {},
     "output_type": "execute_result"
    }
   ],
   "source": [
    "df= pd.read_csv('cat_acidentes.csv', sep = ';' )\n",
    "df.head(5)"
   ]
  },
  {
   "cell_type": "code",
   "execution_count": 4,
   "id": "32be7b00-3e53-4ef0-9ae6-cf2b620d9bdc",
   "metadata": {},
   "outputs": [],
   "source": [
    "#h1 O arquivo inicialmente tinham varias colunas e linhas, porem a estruturação dele estava com ; logo o python só reconhece , como separador. \n",
    "#Com isso, voltamos na primeira celula e indicamos qual é o tipo de separador"
   ]
  },
  {
   "cell_type": "code",
   "execution_count": 5,
   "id": "31411510-2f9c-4e2a-bcd7-88e0a59cdd7f",
   "metadata": {},
   "outputs": [
    {
     "data": {
      "text/plain": [
       "(69182, 34)"
      ]
     },
     "execution_count": 5,
     "metadata": {},
     "output_type": "execute_result"
    }
   ],
   "source": [
    "df.shape"
   ]
  },
  {
   "cell_type": "code",
   "execution_count": 6,
   "id": "15af9833-d4d7-4e1e-a3fb-974e66bbf7ed",
   "metadata": {},
   "outputs": [
    {
     "data": {
      "text/plain": [
       "consorcio    66987\n",
       "log2         50092\n",
       "longitude    10219\n",
       "latitude     10219\n",
       "predial1      4027\n",
       "hora           550\n",
       "log1            50\n",
       "regiao           1\n",
       "tipo_acid        0\n",
       "dia_sem          0\n",
       "dtype: int64"
      ]
     },
     "execution_count": 6,
     "metadata": {},
     "output_type": "execute_result"
    }
   ],
   "source": [
    "# Visualizando colunas com valores ausentes\n",
    "df.isnull().sum().sort_values(ascending=False).head(10)"
   ]
  },
  {
   "cell_type": "code",
   "execution_count": 7,
   "id": "5136e748-4348-46c6-a379-2ceebc6d3f5e",
   "metadata": {},
   "outputs": [
    {
     "data": {
      "text/plain": [
       "data_extracao     object\n",
       "predial1         float64\n",
       "queda_arr        float64\n",
       "data              object\n",
       "feridos            int64\n",
       "feridos_gr         int64\n",
       "mortes             int64\n",
       "morte_post         int64\n",
       "fatais             int64\n",
       "auto               int64\n",
       "taxi               int64\n",
       "lotacao            int64\n",
       "onibus_urb         int64\n",
       "onibus_met         int64\n",
       "onibus_int         int64\n",
       "caminhao           int64\n",
       "moto               int64\n",
       "carroca            int64\n",
       "bicicleta          int64\n",
       "outro              int64\n",
       "cont_vit           int64\n",
       "ups                int64\n",
       "patinete           int64\n",
       "idacidente         int64\n",
       "longitude        float64\n",
       "latitude         float64\n",
       "log1              object\n",
       "log2              object\n",
       "tipo_acid         object\n",
       "dia_sem           object\n",
       "hora              object\n",
       "noite_dia         object\n",
       "regiao            object\n",
       "consorcio         object\n",
       "dtype: object"
      ]
     },
     "execution_count": 7,
     "metadata": {},
     "output_type": "execute_result"
    }
   ],
   "source": [
    "df.dtypes"
   ]
  },
  {
   "cell_type": "code",
   "execution_count": 8,
   "id": "0f84fd53-e040-4f59-b966-0bc50352618a",
   "metadata": {},
   "outputs": [],
   "source": [
    "df.to_csv(\"acidentes_bruto.csv\", index=False)"
   ]
  },
  {
   "cell_type": "code",
   "execution_count": 9,
   "id": "5f5509c7-345b-43ac-939b-e658654c2d12",
   "metadata": {},
   "outputs": [
    {
     "ename": "ValueError",
     "evalue": "Location values cannot contain NaNs.",
     "output_type": "error",
     "traceback": [
      "\u001b[31m---------------------------------------------------------------------------\u001b[39m",
      "\u001b[31mValueError\u001b[39m                                Traceback (most recent call last)",
      "\u001b[36mCell\u001b[39m\u001b[36m \u001b[39m\u001b[32mIn[9]\u001b[39m\u001b[32m, line 3\u001b[39m\n\u001b[32m      1\u001b[39m mapa = folium.Map(location=[-\u001b[32m30.10\u001b[39m, -\u001b[32m51.15\u001b[39m], zoom_start=\u001b[32m11\u001b[39m)\n\u001b[32m      2\u001b[39m coordenadas = \u001b[38;5;28mlist\u001b[39m(\u001b[38;5;28mzip\u001b[39m(df.latitude, df.longitude))\n\u001b[32m----> \u001b[39m\u001b[32m3\u001b[39m mapa_calor = \u001b[43mHeatMap\u001b[49m\u001b[43m(\u001b[49m\u001b[43mcoordenadas\u001b[49m\u001b[43m,\u001b[49m\u001b[43m \u001b[49m\u001b[43mradius\u001b[49m\u001b[43m=\u001b[49m\u001b[32;43m9\u001b[39;49m\u001b[43m,\u001b[49m\u001b[43m \u001b[49m\u001b[43mblur\u001b[49m\u001b[43m=\u001b[49m\u001b[32;43m10\u001b[39;49m\u001b[43m)\u001b[49m\n\u001b[32m      4\u001b[39m mapa.add_child(mapa_calor)\n\u001b[32m      6\u001b[39m mapa\n",
      "\u001b[36mFile \u001b[39m\u001b[32m~\\AppData\\Local\\Programs\\Python\\Python313\\Lib\\site-packages\\folium\\plugins\\heat_map.py:84\u001b[39m, in \u001b[36mHeatMap.__init__\u001b[39m\u001b[34m(self, data, name, min_opacity, max_zoom, radius, blur, gradient, overlay, control, show, **kwargs)\u001b[39m\n\u001b[32m     81\u001b[39m \u001b[38;5;28mself\u001b[39m._name = \u001b[33m\"\u001b[39m\u001b[33mHeatMap\u001b[39m\u001b[33m\"\u001b[39m\n\u001b[32m     82\u001b[39m data = if_pandas_df_convert_to_numpy(data)\n\u001b[32m     83\u001b[39m \u001b[38;5;28mself\u001b[39m.data = [\n\u001b[32m---> \u001b[39m\u001b[32m84\u001b[39m     [*\u001b[43mvalidate_location\u001b[49m\u001b[43m(\u001b[49m\u001b[43mline\u001b[49m\u001b[43m[\u001b[49m\u001b[43m:\u001b[49m\u001b[32;43m2\u001b[39;49m\u001b[43m]\u001b[49m\u001b[43m)\u001b[49m, *line[\u001b[32m2\u001b[39m:]] \u001b[38;5;28;01mfor\u001b[39;00m line \u001b[38;5;129;01min\u001b[39;00m data  \u001b[38;5;66;03m# noqa: E999\u001b[39;00m\n\u001b[32m     85\u001b[39m ]\n\u001b[32m     86\u001b[39m \u001b[38;5;28;01mif\u001b[39;00m np.any(np.isnan(\u001b[38;5;28mself\u001b[39m.data)):\n\u001b[32m     87\u001b[39m     \u001b[38;5;28;01mraise\u001b[39;00m \u001b[38;5;167;01mValueError\u001b[39;00m(\u001b[33m\"\u001b[39m\u001b[33mdata may not contain NaNs.\u001b[39m\u001b[33m\"\u001b[39m)\n",
      "\u001b[36mFile \u001b[39m\u001b[32m~\\AppData\\Local\\Programs\\Python\\Python313\\Lib\\site-packages\\folium\\utilities.py:110\u001b[39m, in \u001b[36mvalidate_location\u001b[39m\u001b[34m(location)\u001b[39m\n\u001b[32m    105\u001b[39m         \u001b[38;5;28;01mraise\u001b[39;00m \u001b[38;5;167;01mValueError\u001b[39;00m(\n\u001b[32m    106\u001b[39m             \u001b[33m\"\u001b[39m\u001b[33mLocation should consist of two numerical values, \u001b[39m\u001b[33m\"\u001b[39m\n\u001b[32m    107\u001b[39m             \u001b[33mf\u001b[39m\u001b[33m\"\u001b[39m\u001b[33mbut \u001b[39m\u001b[38;5;132;01m{\u001b[39;00mcoord\u001b[38;5;132;01m!r}\u001b[39;00m\u001b[33m of type \u001b[39m\u001b[38;5;132;01m{\u001b[39;00m\u001b[38;5;28mtype\u001b[39m(coord)\u001b[38;5;132;01m}\u001b[39;00m\u001b[33m is not convertible to float.\u001b[39m\u001b[33m\"\u001b[39m\n\u001b[32m    108\u001b[39m         )\n\u001b[32m    109\u001b[39m     \u001b[38;5;28;01mif\u001b[39;00m math.isnan(\u001b[38;5;28mfloat\u001b[39m(coord)):\n\u001b[32m--> \u001b[39m\u001b[32m110\u001b[39m         \u001b[38;5;28;01mraise\u001b[39;00m \u001b[38;5;167;01mValueError\u001b[39;00m(\u001b[33m\"\u001b[39m\u001b[33mLocation values cannot contain NaNs.\u001b[39m\u001b[33m\"\u001b[39m)\n\u001b[32m    111\u001b[39m \u001b[38;5;28;01mreturn\u001b[39;00m [\u001b[38;5;28mfloat\u001b[39m(x) \u001b[38;5;28;01mfor\u001b[39;00m x \u001b[38;5;129;01min\u001b[39;00m coords]\n",
      "\u001b[31mValueError\u001b[39m: Location values cannot contain NaNs."
     ]
    }
   ],
   "source": [
    "mapa = folium.Map(location=[-30.10, -51.15], zoom_start=11)\n",
    "coordenadas = list(zip(df.latitude, df.longitude))\n",
    "mapa_calor = HeatMap(coordenadas, radius=9, blur=10)\n",
    "mapa.add_child(mapa_calor)\n",
    "\n",
    "mapa"
   ]
  },
  {
   "cell_type": "code",
   "execution_count": null,
   "id": "9e0d783b-93a5-4a47-ae87-7d9f3a72ef37",
   "metadata": {},
   "outputs": [],
   "source": []
  },
  {
   "cell_type": "code",
   "execution_count": null,
   "id": "5b94fa35-4e40-4196-8764-f7729d29c9a9",
   "metadata": {},
   "outputs": [],
   "source": [
    "df = df.dropna(subset=['latitude', 'longitude'], how ='any')\n",
    "df.shape"
   ]
  },
  {
   "cell_type": "code",
   "execution_count": null,
   "id": "f52d6f91-a475-4e09-95c7-39b09e516649",
   "metadata": {},
   "outputs": [],
   "source": [
    "mapa = folium.Map(location=[-30.1, -51.15], zoom_start=11)\n",
    "mapa_cluster = MarkerCluster(coordenadas)\n",
    "mapa.add_child(mapa_cluster)\n",
    "mapa"
   ]
  },
  {
   "cell_type": "code",
   "execution_count": null,
   "id": "6f49a6c0-0a7d-486f-8db9-0d529604fa53",
   "metadata": {},
   "outputs": [],
   "source": [
    "df.data"
   ]
  },
  {
   "cell_type": "code",
   "execution_count": null,
   "id": "0dd2074f-3c1c-4e1e-9513-2fc2164a066f",
   "metadata": {},
   "outputs": [],
   "source": [
    "#como as datas estavam em obetc, foi feita a conversão para limpeza e trtamento dos daods"
   ]
  },
  {
   "cell_type": "code",
   "execution_count": null,
   "id": "1b44e044-f6b4-4fe2-8ad7-efb004f4aa7b",
   "metadata": {},
   "outputs": [],
   "source": [
    "df['data'] = pd.to_datetime(df['data'], errors ='coerce')\n",
    "df_ano = df['data'].dt.year.value_counts()\n",
    "df_ano"
   ]
  },
  {
   "cell_type": "code",
   "execution_count": null,
   "id": "ec544bd1-87ec-40d6-a985-f56abcb1f675",
   "metadata": {},
   "outputs": [],
   "source": [
    "df_ano = df_ano.drop([2202, 2027, 2026])\n",
    "df_ano"
   ]
  },
  {
   "cell_type": "code",
   "execution_count": null,
   "id": "828807bb-44c9-465d-aca5-bb428e670bc0",
   "metadata": {},
   "outputs": [],
   "source": [
    "plt.bar(df_ano.index, df_ano.values)\n",
    "plt.show()"
   ]
  },
  {
   "cell_type": "code",
   "execution_count": null,
   "id": "21b82f2b-b28f-4fc0-808c-827c7fbb8aca",
   "metadata": {},
   "outputs": [],
   "source": [
    "#deve se considear que o ano de 2025 está no inico, seria interessante a fazer um mostra por mes para ter uma noçao de como foram nos outros anos, interesasnte tbm apontar como foi baixo o numero de acientes em 2020 decorrene da pandemia, fazer uma analise mais detlhada ententendo a quantidade media de acitendes por mes e fazer a estimativa para 2025 para simular na barra oq ue pode ser que aconteça"
   ]
  },
  {
   "cell_type": "code",
   "execution_count": null,
   "id": "612d4ad2-5667-4aed-9e85-a73f4a4b7476",
   "metadata": {},
   "outputs": [],
   "source": [
    "df_ano/df_ano.max()"
   ]
  },
  {
   "cell_type": "code",
   "execution_count": null,
   "id": "ab014c07-8763-43a6-8542-96bcc740d553",
   "metadata": {},
   "outputs": [],
   "source": [
    "gradiente = df_ano/df_ano.max()\n",
    "cores = plt.cm.Greens(gradiente)\n",
    "plt.bar(df_ano.index, df_ano.values, color = cores)\n",
    "plt.show()"
   ]
  },
  {
   "cell_type": "code",
   "execution_count": null,
   "id": "6d647fd2-a019-43cc-8a55-66b3048e1d7c",
   "metadata": {},
   "outputs": [],
   "source": []
  }
 ],
 "metadata": {
  "kernelspec": {
   "display_name": "Python 3 (ipykernel)",
   "language": "python",
   "name": "python3"
  },
  "language_info": {
   "codemirror_mode": {
    "name": "ipython",
    "version": 3
   },
   "file_extension": ".py",
   "mimetype": "text/x-python",
   "name": "python",
   "nbconvert_exporter": "python",
   "pygments_lexer": "ipython3",
   "version": "3.13.4"
  }
 },
 "nbformat": 4,
 "nbformat_minor": 5
}
